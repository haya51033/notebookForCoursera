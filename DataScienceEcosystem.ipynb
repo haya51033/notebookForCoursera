{
 "cells": [
  {
   "cell_type": "markdown",
   "id": "37fc4cd7-eb5e-4bdf-9eb5-48610536fd0f",
   "metadata": {},
   "source": [
    "# Data Science Tools and Ecosystem"
   ]
  },
  {
   "cell_type": "markdown",
   "id": "a562b21f-b60f-4e19-b55b-a54e0d69d472",
   "metadata": {},
   "source": [
    "In this notebook, Data Science Tools and Ecosystem are summarized.\n"
   ]
  },
  {
   "cell_type": "markdown",
   "id": "93602d3b-7b8f-4797-a8f0-3f87155f6202",
   "metadata": {},
   "source": [
    "### this notebook covered:\n",
    "**Objectives:**\n",
    "* List popular languages for Data Science\n",
    "* Some of the commonly used libraries used by Data Scientists\n",
    "* Some of development environment open source tools used in data science\n",
    "* examples of evaluating arithmetic expressions in Python"
   ]
  },
  {
   "cell_type": "markdown",
   "id": "448dc8ca-32a6-4b7d-a534-4a5af735c9d4",
   "metadata": {},
   "source": [
    "## Some of the popular languages that Data Scientists use are:\n",
    "1. Python\n",
    "2. C++\n",
    "3. JAVA\n",
    "4. R\n"
   ]
  },
  {
   "cell_type": "markdown",
   "id": "2e8baf77-ce23-4690-be92-819b8bb2a4cb",
   "metadata": {},
   "source": [
    "## Some of the commonly used libraries used by Data Scientists include:\n",
    "- pandas\n",
    "- numPy\n",
    "- TensorFlow"
   ]
  },
  {
   "cell_type": "markdown",
   "id": "d9bd17b7-b74e-4738-9e83-558636fac349",
   "metadata": {},
   "source": [
    "## Some of development environment open source tools used in data science:\n",
    "\n",
    "| Data Science Tools | \n",
    "| -------------|\n",
    "| Anaconda |\n",
    "| Jupyter Notebook |\n",
    "| Hadoop |"
   ]
  },
  {
   "cell_type": "markdown",
   "id": "a9221b9a-243d-483c-a975-0f6e76214da4",
   "metadata": {},
   "source": [
    "## Below are a few examples of evaluating arithmetic expressions in Python:\n",
    "\n",
    "\n"
   ]
  },
  {
   "cell_type": "code",
   "execution_count": 2,
   "id": "e5495f4f-5445-491e-8d05-8fd0d18b6d1c",
   "metadata": {},
   "outputs": [
    {
     "name": "stdout",
     "output_type": "stream",
     "text": [
      "5\n",
      "25\n"
     ]
    }
   ],
   "source": [
    "x = min(5, 10, 25)\n",
    "y = max(5, 10, 25)\n",
    "print(x)\n",
    "print(y)\n"
   ]
  },
  {
   "cell_type": "markdown",
   "id": "ce8fca51-02ef-4eb0-81ce-265d5cf80455",
   "metadata": {},
   "source": [
    "### This a simple arithmetic expression to mutiply then add integers\n"
   ]
  },
  {
   "cell_type": "code",
   "execution_count": 3,
   "id": "b5adf2a1-f4e8-4504-a0fa-bda47fd3c049",
   "metadata": {},
   "outputs": [
    {
     "data": {
      "text/plain": [
       "17"
      ]
     },
     "execution_count": 3,
     "metadata": {},
     "output_type": "execute_result"
    }
   ],
   "source": [
    "(3*4)+5\n"
   ]
  },
  {
   "cell_type": "markdown",
   "id": "9cc13a1b-1c21-4659-896e-b34cdc6a0365",
   "metadata": {},
   "source": [
    "\n",
    "\n",
    "\n",
    "### This will convert 200 minutes to hours by diving by 60:"
   ]
  },
  {
   "cell_type": "code",
   "execution_count": 4,
   "id": "588accf8-0e38-4aaf-a10a-d2e30a18f24a",
   "metadata": {},
   "outputs": [
    {
     "data": {
      "text/plain": [
       "3.3333333333333335"
      ]
     },
     "execution_count": 4,
     "metadata": {},
     "output_type": "execute_result"
    }
   ],
   "source": [
    "200/60\n"
   ]
  },
  {
   "cell_type": "markdown",
   "id": "d8b1a7f6-7feb-439f-87f6-d579a807b95a",
   "metadata": {},
   "source": [
    "## Author:\n",
    "Haya Akkad"
   ]
  },
  {
   "cell_type": "code",
   "execution_count": null,
   "id": "e5e47280-dc08-4209-bbcf-9d71e795a5be",
   "metadata": {},
   "outputs": [],
   "source": []
  }
 ],
 "metadata": {
  "kernelspec": {
   "display_name": "Python 3 (ipykernel)",
   "language": "python",
   "name": "python3"
  },
  "language_info": {
   "codemirror_mode": {
    "name": "ipython",
    "version": 3
   },
   "file_extension": ".py",
   "mimetype": "text/x-python",
   "name": "python",
   "nbconvert_exporter": "python",
   "pygments_lexer": "ipython3",
   "version": "3.12.4"
  }
 },
 "nbformat": 4,
 "nbformat_minor": 5
}
